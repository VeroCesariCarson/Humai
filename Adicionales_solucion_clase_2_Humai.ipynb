{
  "cells": [
    {
      "cell_type": "markdown",
      "metadata": {
        "id": "view-in-github",
        "colab_type": "text"
      },
      "source": [
        "<a href=\"https://colab.research.google.com/github/VeroCesariCarson/Humai/blob/main/Adicionales_solucion_clase_2_Humai.ipynb\" target=\"_parent\"><img src=\"https://colab.research.google.com/assets/colab-badge.svg\" alt=\"Open In Colab\"/></a>"
      ]
    },
    {
      "cell_type": "markdown",
      "metadata": {
        "id": "dYfDc9iLBaq3"
      },
      "source": [
        "<a href=\"https://colab.research.google.com/github/institutohumai/cursos-python/blob/master/Introduccion/2_Listas_Y_Funciones/ejercicio/adicionales-solucion.ipynb\"> <img src='https://colab.research.google.com/assets/colab-badge.svg' /> </a>\n",
        "<div align=\"center\"> Recordá abrir en una nueva pestaña </div>"
      ]
    },
    {
      "cell_type": "markdown",
      "metadata": {
        "id": "enBk0483Baq6"
      },
      "source": [
        "## Adicionales clase 2\n",
        "\n",
        "Estos ejercicios tienen un nivel de dificultad un poco mas elevado. Cada ejercicio tiene una función de test para chequear si lo que hicieron esta bien. "
      ]
    },
    {
      "cell_type": "code",
      "execution_count": 1,
      "metadata": {
        "id": "SuXoIxT4Baq7",
        "colab": {
          "base_uri": "https://localhost:8080/"
        },
        "outputId": "0116cd63-c03d-48c6-8058-ee66dbfd8eb1"
      },
      "outputs": [
        {
          "output_type": "stream",
          "name": "stdout",
          "text": [
            "--2022-08-13 21:04:46--  https://datasets-humai.s3.amazonaws.com/datasets/test_intro_clase2.zip\n",
            "Resolving datasets-humai.s3.amazonaws.com (datasets-humai.s3.amazonaws.com)... 52.217.91.225\n",
            "Connecting to datasets-humai.s3.amazonaws.com (datasets-humai.s3.amazonaws.com)|52.217.91.225|:443... connected.\n",
            "HTTP request sent, awaiting response... 200 OK\n",
            "Length: 3265 (3.2K) [application/zip]\n",
            "Saving to: ‘test_intro_clase2.zip’\n",
            "\n",
            "\rtest_intro_clase2.z   0%[                    ]       0  --.-KB/s               \rtest_intro_clase2.z 100%[===================>]   3.19K  --.-KB/s    in 0s      \n",
            "\n",
            "2022-08-13 21:04:46 (31.0 MB/s) - ‘test_intro_clase2.zip’ saved [3265/3265]\n",
            "\n",
            "Archive:  test_intro_clase2.zip\n",
            "  inflating: README.txt              \n",
            "   creating: test/\n",
            "  inflating: test/borges1.txt        \n",
            "  inflating: test/borges1_encriptado_6.txt  \n",
            "  inflating: test/borges1_encriptado_6_cap.txt  \n",
            "  inflating: test/borges2.txt        \n",
            "  inflating: test/borges2_encriptado_11.txt  \n",
            "  inflating: test/borges2_encriptado_11_cap.txt  \n",
            "  inflating: test.py                 \n"
          ]
        }
      ],
      "source": [
        "!wget https://datasets-humai.s3.amazonaws.com/datasets/test_intro_clase2.zip\n",
        "!unzip test_intro_clase2.zip"
      ]
    },
    {
      "cell_type": "code",
      "execution_count": 2,
      "metadata": {
        "id": "5ejepWRDBaq9"
      },
      "outputs": [],
      "source": [
        "%load_ext autoreload\n",
        "%autoreload 2\n",
        "from test import *"
      ]
    },
    {
      "cell_type": "markdown",
      "metadata": {
        "id": "BijHwLbbBaq9"
      },
      "source": [
        "### Juego de espías (Fácil)\n",
        "El espía Ramsay debe codificar los mensajes que le mandan otros espías sobre la cantidad de tropas que tiene el enemigo en distintos cuarteles. Para esto, otro espía le manda una tira de números con un pequeño truco. Esta tira de números estan separados por `-`, pero para que no sea tan fácil saber que esta informando, la cantidad de tropas esta levemente escondida y también esta escondido el número del cuartel. El cuartel estará escondido en el último lugar de la tira y para obtener la cantidad de tropas aproximadas se deben sumar todos los números que son divisibles por el número del cuartel de la tira. Crear una función que reciba el string de la tira de números y devuelva la cantidad de tropas que hay en el cuartel enemigo como una tupla. Adicionalmente, podria imprimir un mensaje con la información requerida.\n",
        "\n",
        "Ej:\n",
        "```Python\n",
        "INPUT:\n",
        "tira_numeros = '29-32-1-5-65-12345-0-12-2'\n",
        "OUTPUT: \n",
        "(2, 44)\n",
        "    \"En el cuartel número 2 hay 44 soldados\"\n",
        "```"
      ]
    },
    {
      "cell_type": "code",
      "execution_count": 3,
      "metadata": {
        "id": "jLO-JK8IBaq_"
      },
      "outputs": [],
      "source": [
        "def informe_espia(tira_numeros):\n",
        "    numeros = tira_numeros.split('-') # con split convierto un string en una lista\n",
        "    cuartel = int(numeros[-1])\n",
        "    informe = 0\n",
        "    for num in numeros[:-1]:\n",
        "        if int(num) % cuartel == 0:\n",
        "            informe += int(num)\n",
        "            \n",
        "    print(f\"En el cuartel número {cuartel} hay {informe} soldados\") \n",
        "    return (cuartel,informe)"
      ]
    },
    {
      "cell_type": "code",
      "execution_count": 4,
      "metadata": {
        "id": "GvC9tS8QBaq_",
        "colab": {
          "base_uri": "https://localhost:8080/"
        },
        "outputId": "f8b104fe-4bab-4300-ccf6-58bb43230988"
      },
      "outputs": [
        {
          "output_type": "stream",
          "name": "stdout",
          "text": [
            "En el cuartel número 3 hay 1581 soldados\n",
            "En el cuartel número 5 hay 213455295 soldados\n",
            "En el cuartel número 1 hay 138467 soldados\n",
            "En el cuartel número 2 hay 0 soldados\n",
            "Salio todo piola\n"
          ]
        }
      ],
      "source": [
        "test1(informe_espia)"
      ]
    },
    {
      "cell_type": "markdown",
      "metadata": {
        "id": "BZeZzDmMBarB"
      },
      "source": [
        "***\n",
        "### Codificador César (Intermedio)\n",
        "Una de las formas mas antiguas de crear un código encriptado es lo que se conoce como el encriptado César <https://es.wikipedia.org/wiki/Cifrado_C%C3%A9sar>. En este tipo de encriptado lo que se hace es \"girar\" el abecedario una determinada cantidad de pasos según una clave numérica (ver ejemplo). Crear una función que lea un string dentro de un txt en la misma ruta que esta notebook, tome una clave y devuelva el string encriptado con la clave César en *minúsculas* (asumir que el texto esta en castellano).\n",
        "\n",
        "Ej: Clave = 2\n",
        "\n",
        "| Letra   | Letra encriptada |\n",
        "| ------------- |:-------------:| \n",
        "| A | C | \n",
        "| B | D |\n",
        "| C | E |\n",
        "| ... | ... |\n",
        "| Y | A |\n",
        "| Z | B |\n",
        "\n",
        "```Python\n",
        "INPUT:\n",
        "'mi_archivo.txt' (\"Hola estudiante\"), clave = 1\n",
        "OUTPUT:\n",
        "\"Jqnc guvwfkcovg\"\n",
        "```\n",
        "\n",
        "*AYUDA*\n",
        "\n",
        "El método `mi_lista.index(elemento)` búsca el `elemento` en la lista `mi_lista` y devuelve la posición del elemento si lo encontró. Si no lo encontró devuelve un `ValueError`."
      ]
    },
    {
      "cell_type": "code",
      "execution_count": 5,
      "metadata": {
        "id": "orfu-ssvBarD"
      },
      "outputs": [],
      "source": [
        "def codificador_cesar(mensaje_path, clave):\n",
        "    # Un ayudin\n",
        "    abecedario = 'abcdefghijklmnñopqrstuvwxyz'\n",
        "    # Ahora hagan su magia (ojo con las mayúsculas)\n",
        "    # Llamamos a upper para obtener sólo minúsculas\n",
        "    with open(mensaje_path, 'r') as f:\n",
        "        contenido = f.read().lower()\n",
        "        # Variable para guardar mensaje cifrado\n",
        "        cifrado = \"\"\n",
        "        for l in contenido:\n",
        "            # Si la letra está en el abecedario se reemplaza\n",
        "            if l in abecedario:\n",
        "                pos_letra = abecedario.index(l)\n",
        "                # Sumamos para movernos a la derecha del abc\n",
        "                nueva_pos = (pos_letra + clave) % len(abecedario)\n",
        "                cifrado+= abecedario[nueva_pos]\n",
        "            else:\n",
        "                # Si no está en el abecedario sólo añadelo\n",
        "                cifrado+= l\n",
        "    #print(cifrado)\n",
        "    return cifrado"
      ]
    },
    {
      "cell_type": "code",
      "execution_count": 6,
      "metadata": {
        "id": "sVzSKVVqBarG",
        "colab": {
          "base_uri": "https://localhost:8080/"
        },
        "outputId": "a1be38ad-4bc6-46f3-d527-3ead914355d7"
      },
      "outputs": [
        {
          "output_type": "stream",
          "name": "stdout",
          "text": [
            "¡Mensaje encriptado correctamente! Son hackers.\n"
          ]
        }
      ],
      "source": [
        "test2(codificador_cesar)"
      ]
    },
    {
      "cell_type": "markdown",
      "metadata": {
        "id": "yLK055PzBarH"
      },
      "source": [
        "**OPCIONALES** \n",
        "\n",
        "- Hacer que la función guarde la salida como un archivo de texto.\n",
        "- Podemos encriptar respetando mayúsculas. Adaptar la función para que lo haga. Se puede usar la funcion test2_mayusculas para probarla. Sugerencia: Mirar el método `isupper()` para los strings.\n",
        "- Adaptar la función anterior pero para desencriptar, una función que cree una lista con todas las posibles rotaciones del texto."
      ]
    },
    {
      "cell_type": "markdown",
      "metadata": {
        "id": "8A5-k9ocBarH"
      },
      "source": [
        "***\n",
        "### La calesita (Rompecoco) \n",
        "El señor Jacinto es dueño de una antigua calesita con animalitos que no funciona hace varios años y quiere volver a ponerla en funcionamiento. Para eso va a probarla prendiendola y viendo cuanto rota segun la cantidad de movimientos. \n",
        "\n",
        "Crear una función que reciba una lista de strings (con la primera en mayúscula) con los animales que componen la calesita, una cantidad de ciclos(n_ciclos) y devuelva la misma lista pero rotada hacia la derecha esa cantidad de movimientos, donde un movimiento es cambiar todos los animales una posición hacia la derecha:\n",
        "\n",
        "Ej:\n",
        "``` Python\n",
        "INPUT:\n",
        "['Unicornio','Oso','Jirafa', 'Pato'. 'Elefante'], movimiento = 1\n",
        "OUTPUT:\n",
        "['Elefante', 'Unicornio', 'Oso', 'Jirafa', 'Pato']\n",
        "```"
      ]
    },
    {
      "cell_type": "code",
      "execution_count": 7,
      "metadata": {
        "id": "_95yavT0BarI"
      },
      "outputs": [],
      "source": [
        "def probar_calesita(calesita, n_movimientos):\n",
        "    # Proba la calesita\n",
        "    # Primero calculamos el resto de la division de los ciclos por el tamaño de la calesita\n",
        "    # Porque si por ejemplo da tantos ciclos como tamaño tiene, entonces la calesita no cambia asi omitimos dar vueltas de mas\n",
        "    movimientos = n_movimientos % len(calesita)\n",
        "    #print(movimientos)\n",
        "    # Ahora posicion primero me dice donde va a ir a parar el primer animalito y asi sucesivamente.\n",
        "    # Separamos en el caso de que si se mueva la calesita\n",
        "    if movimientos > 0:\n",
        "        # Movemos los ultimos elementos al principio de la lista\n",
        "        adelante = calesita[len(calesita)-movimientos:]\n",
        "        atras    = calesita[:-movimientos]\n",
        "        #print(adelante)\n",
        "        #print(atras)\n",
        "        calesita_girada = adelante + atras\n",
        "    else:\n",
        "        calesita_girada = calesita\n",
        "    \n",
        "    return calesita_girada"
      ]
    },
    {
      "cell_type": "code",
      "execution_count": 8,
      "metadata": {
        "id": "jjmBHIkQBarJ",
        "colab": {
          "base_uri": "https://localhost:8080/"
        },
        "outputId": "9bf880a4-ed2c-421e-a175-dfd7abd9b83c"
      },
      "outputs": [
        {
          "output_type": "stream",
          "name": "stdout",
          "text": [
            "¡La calesita anda!\n"
          ]
        }
      ],
      "source": [
        "test3(probar_calesita)"
      ]
    },
    {
      "cell_type": "markdown",
      "metadata": {
        "id": "EaUc4hS6BarJ"
      },
      "source": [
        "Cuando prueba la calesita se da cuenta que es muy lenta. Debe sacar uno de los animales para que pueda funcionar correctamente. Para eso los manda a pesar y le dicen cual es el que hay que sacar para que funcione perfectamente.\n",
        "\n",
        "Modificar la función anterior para que reciba un string, que es un animal en MAYÚSCULAS (animal_quitar) para sacar y pruebe la función nuevamente.\n",
        "\n",
        "Ej:\n",
        "```Python\n",
        "INPUT:\n",
        "['Unicornio','Oso','Jirafa', 'Pato'. 'Elefante'], animal_quitar = 'JIRAFA', movimientos = 1\n",
        "OUTPUT:\n",
        "['Elefante', 'Unicornio', 'Oso', 'Pato']\n",
        "```"
      ]
    },
    {
      "cell_type": "code",
      "execution_count": 9,
      "metadata": {
        "id": "JPAaDZF1BarK"
      },
      "outputs": [],
      "source": [
        "def probar_calesita_arreglada(calesita, n_mov, animal_quitar):\n",
        "    animal = animal_quitar.lower().title()\n",
        "    indice = calesita.index(animal)\n",
        "    nueva_calesita = calesita[:indice]+calesita[indice+1:]\n",
        "    return probar_calesita(nueva_calesita, n_mov)"
      ]
    },
    {
      "cell_type": "code",
      "execution_count": 10,
      "metadata": {
        "id": "c7F0WiNXBarK",
        "colab": {
          "base_uri": "https://localhost:8080/"
        },
        "outputId": "ec4f09b8-dd27-43f4-b27f-1e666e9de489"
      },
      "outputs": [
        {
          "output_type": "stream",
          "name": "stdout",
          "text": [
            "¡Perfecto! Ahora a ganar dinero para Jacinto\n"
          ]
        }
      ],
      "source": [
        "test4(probar_calesita_arreglada)"
      ]
    }
  ],
  "metadata": {
    "kernelspec": {
      "display_name": "Python 3",
      "language": "python",
      "name": "python3"
    },
    "language_info": {
      "codemirror_mode": {
        "name": "ipython",
        "version": 3
      },
      "file_extension": ".py",
      "mimetype": "text/x-python",
      "name": "python",
      "nbconvert_exporter": "python",
      "pygments_lexer": "ipython3",
      "version": "3.8.3"
    },
    "colab": {
      "name": "Adicionales-solucion clase 2 Humai.ipynb",
      "provenance": [],
      "include_colab_link": true
    }
  },
  "nbformat": 4,
  "nbformat_minor": 0
}