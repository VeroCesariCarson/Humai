{
  "cells": [
    {
      "cell_type": "markdown",
      "metadata": {
        "id": "view-in-github",
        "colab_type": "text"
      },
      "source": [
        "<a href=\"https://colab.research.google.com/github/VeroCesariCarson/Humai/blob/main/Ejercicios_1_Humai.ipynb\" target=\"_parent\"><img src=\"https://colab.research.google.com/assets/colab-badge.svg\" alt=\"Open In Colab\"/></a>"
      ]
    },
    {
      "cell_type": "markdown",
      "metadata": {
        "id": "1KU3-3CWi_e4"
      },
      "source": [
        "<a href=\"https://colab.research.google.com/github/institutohumai/cursos-python/blob/master/Introduccion/1_TiposDatos/ejercicio/ejercicios.ipynb\"> <img src='https://colab.research.google.com/assets/colab-badge.svg' /> </a>\n",
        "<div align=\"center\"> Recordá abrir en una nueva pestaña </div>\n"
      ]
    },
    {
      "cell_type": "markdown",
      "metadata": {
        "id": "3G31s9Tsi_fB"
      },
      "source": [
        "# Ejercicios I"
      ]
    },
    {
      "cell_type": "markdown",
      "metadata": {
        "id": "HcWoANOgi_fB"
      },
      "source": [
        "## 1- Cambiar un texto\n",
        "\n",
        "Necesitamos mostrar en nuestra web la sinopsis de las películas. El problema es que tenemos los textos separados por pipes (\"|\") en lugar de saltos de línea. "
      ]
    },
    {
      "cell_type": "code",
      "execution_count": 1,
      "metadata": {
        "id": "J1F-nDv0i_fD"
      },
      "outputs": [],
      "source": [
        "string = 'Sinopsis | Marty McFly, un típico adolescente americano de los años ochenta, '\\\n",
        "'es accidentalmente enviado de vuelta a 1955 en una \"máquina del tiempo\" realizada con'\\\n",
        "'un DeLorean inventada por un científico un poco loco. | En este viaje, Marty debe '\\\n",
        "'asegurarse de que sus padres se encuentren y se enamoren, para que pueda volver a su tiempo. '"
      ]
    },
    {
      "cell_type": "code",
      "execution_count": 3,
      "metadata": {
        "id": "OzgerWj9i_fF",
        "colab": {
          "base_uri": "https://localhost:8080/"
        },
        "outputId": "f1b5c608-c467-4456-a6e6-e0d02f948584"
      },
      "outputs": [
        {
          "output_type": "stream",
          "name": "stdout",
          "text": [
            "Sinopsis | Marty McFly, un típico adolescente americano de los años ochenta, es accidentalmente enviado de vuelta a 1955 en una \"máquina del tiempo\" realizada conun DeLorean inventada por un científico un poco loco. | En este viaje, Marty debe asegurarse de que sus padres se encuentren y se enamoren, para que pueda volver a su tiempo. \n"
          ]
        }
      ],
      "source": [
        "print(string)"
      ]
    },
    {
      "cell_type": "markdown",
      "metadata": {
        "id": "cYrUH-P9i_fG"
      },
      "source": [
        "¿Cómo podríamos hacer para que la función \"print\" muestre saltos de línea en lugar de pipes?\n",
        "\n",
        "\n",
        "\n",
        "\n",
        "\n",
        "\n",
        "\n",
        "\n",
        "\n"
      ]
    },
    {
      "cell_type": "code",
      "execution_count": 4,
      "metadata": {
        "id": "iP1yJFX4i_fH",
        "colab": {
          "base_uri": "https://localhost:8080/"
        },
        "outputId": "d3cabc2f-f755-4269-dd4b-7909d9ab14b5"
      },
      "outputs": [
        {
          "output_type": "stream",
          "name": "stdout",
          "text": [
            "Sinopsis   Marty McFly, un típico adolescente americano de los años ochenta, es accidentalmente enviado de vuelta a 1955 en una \"máquina del tiempo\" realizada conun DeLorean inventada por un científico un poco loco.   En este viaje, Marty debe asegurarse de que sus padres se encuentren y se enamoren, para que pueda volver a su tiempo. \n"
          ]
        }
      ],
      "source": [
        "cambiar_texto= string.replace(\"|\", \" \")\n",
        "print(cambiar_texto)\n"
      ]
    },
    {
      "cell_type": "markdown",
      "metadata": {
        "id": "pQ5Ilh0di_fI"
      },
      "source": [
        "## 2 - Crear un acrónimo\n",
        "\n",
        "Ahora nos piden crear un acrónimo (una palabra compuesta por la primera letra de cada palabra) de cada título. Pero antes de eso es necesario que transformemos los títulos a \"title case\" porque no todos van a llegar prolijos. Entonces, el acrónimo de \"Volver al futuro\" debería ser \"VAF\". \n"
      ]
    },
    {
      "cell_type": "code",
      "execution_count": 5,
      "metadata": {
        "id": "ijTZTl7si_fK"
      },
      "outputs": [],
      "source": [
        "titulo = 'Volver al futuro'"
      ]
    },
    {
      "cell_type": "code",
      "execution_count": 8,
      "metadata": {
        "id": "RYhRvtl6i_fL",
        "colab": {
          "base_uri": "https://localhost:8080/"
        },
        "outputId": "ee4b1c3b-5629-4e38-aad8-0959fa969b81"
      },
      "outputs": [
        {
          "output_type": "stream",
          "name": "stdout",
          "text": [
            "Volver Al Futuro\n"
          ]
        }
      ],
      "source": [
        "# 1. Transformar el string a \"title case\"\n",
        "title_case= titulo.title()\n",
        "print(title_case)"
      ]
    },
    {
      "cell_type": "code",
      "execution_count": 18,
      "metadata": {
        "id": "GKms5qZri_fN",
        "colab": {
          "base_uri": "https://localhost:8080/"
        },
        "outputId": "9745daf6-40dc-43c9-81b6-958a2b36f61e"
      },
      "outputs": [
        {
          "output_type": "stream",
          "name": "stdout",
          "text": [
            "['Volver', 'Al', 'Futuro']\n"
          ]
        }
      ],
      "source": [
        "# 2. Crear una lista con todas las palabras del string\n",
        "titulo_2= 'Volver Al Futuro'\n",
        "lista_3=titulo_2.split() #Split genera una lista\n",
        "print(lista_3)"
      ]
    },
    {
      "cell_type": "code",
      "execution_count": 20,
      "metadata": {
        "id": "xLJ-4TZ9i_fO",
        "colab": {
          "base_uri": "https://localhost:8080/"
        },
        "outputId": "bb4f15a4-7e23-448b-aa1e-c71c6abc2c19"
      },
      "outputs": [
        {
          "output_type": "stream",
          "name": "stdout",
          "text": [
            "VAF\n"
          ]
        }
      ],
      "source": [
        "# 3. Recorrer la lista y agregar al acrónimo la primera letra de cada palabra\n",
        "lista_3= ['Volver', 'Al', 'Futuro']\n",
        "acronimo = ''\n",
        "for lista in lista_3: \n",
        "  acronimo = acronimo + lista[0]\n",
        "print(acronimo)"
      ]
    }
  ],
  "metadata": {
    "kernelspec": {
      "display_name": "conda_python3",
      "language": "python",
      "name": "conda_python3"
    },
    "language_info": {
      "codemirror_mode": {
        "name": "ipython",
        "version": 3
      },
      "file_extension": ".py",
      "mimetype": "text/x-python",
      "name": "python",
      "nbconvert_exporter": "python",
      "pygments_lexer": "ipython3",
      "version": "3.6.10"
    },
    "colab": {
      "name": "Ejercicios 1 Humai.ipynb",
      "provenance": [],
      "include_colab_link": true
    }
  },
  "nbformat": 4,
  "nbformat_minor": 0
}