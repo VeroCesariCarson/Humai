{
  "cells": [
    {
      "cell_type": "markdown",
      "metadata": {
        "id": "view-in-github",
        "colab_type": "text"
      },
      "source": [
        "<a href=\"https://colab.research.google.com/github/VeroCesariCarson/Humai/blob/main/Ejercicio3_Humai.ipynb\" target=\"_parent\"><img src=\"https://colab.research.google.com/assets/colab-badge.svg\" alt=\"Open In Colab\"/></a>"
      ]
    },
    {
      "cell_type": "markdown",
      "metadata": {
        "id": "u6Q5T7k22WuZ"
      },
      "source": [
        "<a href=\"https://colab.research.google.com/github/institutohumai/cursos-python/blob/master/Introduccion/3_Modulos_Funciones/ejercicio/ejercicio.ipynb\"> <img src='https://colab.research.google.com/assets/colab-badge.svg' /> </a>\n",
        "<div align=\"center\"> Recordá abrir en una nueva pestaña </div>"
      ]
    },
    {
      "cell_type": "markdown",
      "metadata": {
        "id": "WxAL6VsU2Wuo"
      },
      "source": [
        "# Ejercicios III"
      ]
    },
    {
      "cell_type": "markdown",
      "metadata": {
        "id": "y4fgNZK42Wuq"
      },
      "source": [
        "## Factoriales\n",
        "\n",
        "El factorial de un número natural es la multiplicación de todos los números anteriores hasta llegar a 1. Por ejemplo el factorial de 5 es igual a $5* 4* 3* 2* 1$, es decir, 120.\n",
        "\n",
        "Igual que con la serie Fibonacci, hay dos formas de resolver este problema: una con un loop for y la otra utilizando funciones recursivas.  Recuerden que cada función recursiva tiene que tener una condición terminal.\n",
        "En el caso de Fibonacci, la condición terminal es que fibo(1) = 1. \n",
        "\n",
        "En el caso de factorial, la condición terminal será factorial(1) = 1 \n",
        "\n",
        "Escriban ahora las dos versiones posibles de la función factorial(x). "
      ]
    },
    {
      "cell_type": "code",
      "execution_count": 1,
      "metadata": {
        "id": "AI0nQ8vL2Wux"
      },
      "outputs": [],
      "source": [
        "# Solución recursiva. \n",
        "def factorial(x):\n",
        "  if x == 1:\n",
        "    return 1\n",
        "  else: \n",
        "    return x*factorial(x-1)\n"
      ]
    },
    {
      "cell_type": "code",
      "execution_count": 2,
      "metadata": {
        "id": "WsRV3pZU2Wu3"
      },
      "outputs": [],
      "source": [
        "# Solución iterativa. \n",
        "def factorial(x):\n",
        "  resultado = 1\n",
        "  for i in range(1, x+1):\n",
        "    resultado = resultado * (i)\n",
        "    return resultado"
      ]
    },
    {
      "cell_type": "markdown",
      "metadata": {
        "id": "_RnUbcaR2Wu4"
      },
      "source": [
        "Ahora construyan un módulo que se llame \"operaciones\" con cualquiera de las dos versiones de la función y luego invoquen a la función factorial del módulo."
      ]
    },
    {
      "cell_type": "code",
      "execution_count": 3,
      "metadata": {
        "id": "amURxY7Q2Wu5"
      },
      "outputs": [],
      "source": [
        "# Escriban el archivo operaciones.py\n",
        "with open ('operaciones.py', 'w') as out: #construyo el módulo\n",
        "  out.write(\"\"\"def factorial(x): #invoco a la función factorial\n",
        "  resultado = 1\n",
        "  for i in range(1, x+1):\n",
        "    resultado = resultado * (i)\n",
        "  return resultado \"\"\")\n",
        "\n"
      ]
    },
    {
      "cell_type": "code",
      "execution_count": 6,
      "metadata": {
        "id": "MjA4BPw92Wu6"
      },
      "outputs": [],
      "source": [
        "# Importen operaciones\n",
        "import operaciones\n"
      ]
    },
    {
      "cell_type": "code",
      "execution_count": 5,
      "metadata": {
        "id": "ltadgg2C2Wu9",
        "colab": {
          "base_uri": "https://localhost:8080/"
        },
        "outputId": "1c4a1e5d-030e-4417-ebd1-d66f84770bd6"
      },
      "outputs": [
        {
          "output_type": "execute_result",
          "data": {
            "text/plain": [
              "120"
            ]
          },
          "metadata": {},
          "execution_count": 5
        }
      ],
      "source": [
        "# Invoquen con cualquier valor a operaciones.factorial()\n",
        "operaciones.factorial(5)\n"
      ]
    },
    {
      "cell_type": "markdown",
      "source": [
        "Módulos de búsqueda. Ahora crea un paquete (carpeta con varios módulos) donde haya al menos dos algorítmos de búsqueda vistos que funcionen sobre listas de número. \n",
        "Extra: que la busqueda permita diccionarios"
      ],
      "metadata": {
        "id": "uyHeMHAwJ1Ro"
      }
    },
    {
      "cell_type": "code",
      "source": [
        ""
      ],
      "metadata": {
        "id": "XRBF8JHLKFvS"
      },
      "execution_count": null,
      "outputs": []
    }
  ],
  "metadata": {
    "kernelspec": {
      "display_name": "conda_python3",
      "language": "python",
      "name": "conda_python3"
    },
    "language_info": {
      "codemirror_mode": {
        "name": "ipython",
        "version": 3
      },
      "file_extension": ".py",
      "mimetype": "text/x-python",
      "name": "python",
      "nbconvert_exporter": "python",
      "pygments_lexer": "ipython3",
      "version": "3.6.10"
    },
    "colab": {
      "name": "Ejercicio3 Humai.ipynb",
      "provenance": [],
      "include_colab_link": true
    }
  },
  "nbformat": 4,
  "nbformat_minor": 0
}