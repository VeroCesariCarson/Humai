{
  "cells": [
    {
      "cell_type": "markdown",
      "metadata": {
        "id": "view-in-github",
        "colab_type": "text"
      },
      "source": [
        "<a href=\"https://colab.research.google.com/github/VeroCesariCarson/Humai/blob/main/Ejercicio2_Humai.ipynb\" target=\"_parent\"><img src=\"https://colab.research.google.com/assets/colab-badge.svg\" alt=\"Open In Colab\"/></a>"
      ]
    },
    {
      "cell_type": "markdown",
      "metadata": {
        "id": "RS_O5w70EWgF"
      },
      "source": [
        "<a href=\"https://colab.research.google.com/github/institutohumai/cursos-python/blob/master/Introduccion/2_Listas_Y_Funciones/ejercicio/ejercicio.ipynb\"> <img src='https://colab.research.google.com/assets/colab-badge.svg' /> </a>\n",
        "<div align=\"center\"> Recordá abrir en una nueva pestaña </div>\n"
      ]
    },
    {
      "cell_type": "markdown",
      "metadata": {
        "id": "lILl9rKuEWgL"
      },
      "source": [
        "# Ejercicios II"
      ]
    },
    {
      "cell_type": "markdown",
      "metadata": {
        "id": "lo1OQmM3EWgM"
      },
      "source": [
        "## El contador de palabras\n",
        "\n",
        "Una revista científica quiere publicar los abstracts de los trabajos que aprobó recientemente pero primero tiene que asegurarse de que ninguno de los abstracts tenga más de 200 palabras. \n",
        "\n",
        "Para interactuar con los archivos que tenemos en nuestro \"file system\" vamos a utilizar el módulo os. No se preocupen por entender todos los detalles ahora, vamos a ir profundizando en la utilización de módulos. "
      ]
    },
    {
      "cell_type": "code",
      "execution_count": 1,
      "metadata": {
        "id": "5At24mTYEWgM",
        "colab": {
          "base_uri": "https://localhost:8080/"
        },
        "outputId": "3848a4c6-5939-47f0-95cd-6dfeb0881af4"
      },
      "outputs": [
        {
          "output_type": "stream",
          "name": "stdout",
          "text": [
            "--2022-08-13 18:44:15--  https://datasets-humai.s3.amazonaws.com/datasets/publicaciones.zip\n",
            "Resolving datasets-humai.s3.amazonaws.com (datasets-humai.s3.amazonaws.com)... 3.5.0.105\n",
            "Connecting to datasets-humai.s3.amazonaws.com (datasets-humai.s3.amazonaws.com)|3.5.0.105|:443... connected.\n",
            "HTTP request sent, awaiting response... 200 OK\n",
            "Length: 4342 (4.2K) [application/zip]\n",
            "Saving to: ‘publicaciones.zip’\n",
            "\n",
            "publicaciones.zip   100%[===================>]   4.24K  --.-KB/s    in 0s      \n",
            "\n",
            "2022-08-13 18:44:15 (237 MB/s) - ‘publicaciones.zip’ saved [4342/4342]\n",
            "\n"
          ]
        }
      ],
      "source": [
        "!wget https://datasets-humai.s3.amazonaws.com/datasets/publicaciones.zip"
      ]
    },
    {
      "cell_type": "code",
      "execution_count": 2,
      "metadata": {
        "id": "0KI69VxGEWgP",
        "colab": {
          "base_uri": "https://localhost:8080/"
        },
        "outputId": "bbdeb96a-3c45-49fb-a21e-00c2db448a60"
      },
      "outputs": [
        {
          "output_type": "stream",
          "name": "stdout",
          "text": [
            "Archive:  publicaciones.zip\n",
            "   creating: publicaciones/\n",
            "  inflating: publicaciones/Yukon Delta Salmon Management.txt  \n",
            "  inflating: publicaciones/The Citrus Solution Phase II.txt  \n",
            "  inflating: publicaciones/Characterization of Iron Deposition in Recombinant Heteropolymer.txt  \n",
            "  inflating: publicaciones/Using GIS Site Suitability Analysis to Study Adaptability.txt  \n"
          ]
        }
      ],
      "source": [
        "!unzip publicaciones.zip"
      ]
    },
    {
      "cell_type": "code",
      "execution_count": 3,
      "metadata": {
        "id": "hnUPOHKcEWgQ"
      },
      "outputs": [],
      "source": [
        "import os"
      ]
    },
    {
      "cell_type": "code",
      "execution_count": 4,
      "metadata": {
        "id": "vA7izbL0EWgR"
      },
      "outputs": [],
      "source": [
        "archivos_directorio = os.listdir('publicaciones')"
      ]
    },
    {
      "cell_type": "code",
      "execution_count": 5,
      "metadata": {
        "id": "LG5l8gXEEWgS",
        "colab": {
          "base_uri": "https://localhost:8080/"
        },
        "outputId": "277e73dc-2c22-4f08-a2f2-38440cc4ae66"
      },
      "outputs": [
        {
          "output_type": "stream",
          "name": "stdout",
          "text": [
            "['Using GIS Site Suitability Analysis to Study Adaptability.txt', 'The Citrus Solution Phase II.txt', 'Yukon Delta Salmon Management.txt', 'Characterization of Iron Deposition in Recombinant Heteropolymer.txt']\n"
          ]
        }
      ],
      "source": [
        "print(archivos_directorio)"
      ]
    },
    {
      "cell_type": "markdown",
      "metadata": {
        "id": "Woub7-nrEWgT"
      },
      "source": [
        "La función listdir nos devuelve una lista con todos los archivos que están en la carpeta publicaciones. Noten que solamente nos devuelve los nombres de los archivos, no la ruta completa que necesitamos para acceder a los mismos desde la ubicación en el filesystem donde se encuentra esta notebook.\n",
        "\n",
        "Las rutas hasta los archivos cambian con el sistema operativo, por eso si están en Windows, la forma de acceder al archivo Yukon Delta Salmon Management.txt es ejercicios\\\\Yukon Delta Salmon Management.txt mientras que si están en Linux o Unix la forma de acceder es ejercicios/Yukon Delta Salmon Management.txt .  Para evitar problemas y que el código sea ejecutable desde cualquier sistema operativo, el módulo os tiene la función os.join.\n",
        "\n",
        "Entonces para crear las rutas vamos a usar la función os.path.join y para esto es ideal una lista por comprensión"
      ]
    },
    {
      "cell_type": "code",
      "execution_count": 6,
      "metadata": {
        "id": "stm-StksEWgU"
      },
      "outputs": [],
      "source": [
        "rutas_archivos = [os.path.join('publicaciones',archivo) for archivo in archivos_directorio]"
      ]
    },
    {
      "cell_type": "code",
      "execution_count": 7,
      "metadata": {
        "id": "SnKrkCycEWgV",
        "colab": {
          "base_uri": "https://localhost:8080/"
        },
        "outputId": "c346b590-b9c3-41f7-b296-f4b2b4ef11d5"
      },
      "outputs": [
        {
          "output_type": "execute_result",
          "data": {
            "text/plain": [
              "['publicaciones/Using GIS Site Suitability Analysis to Study Adaptability.txt',\n",
              " 'publicaciones/The Citrus Solution Phase II.txt',\n",
              " 'publicaciones/Yukon Delta Salmon Management.txt',\n",
              " 'publicaciones/Characterization of Iron Deposition in Recombinant Heteropolymer.txt']"
            ]
          },
          "metadata": {},
          "execution_count": 7
        }
      ],
      "source": [
        "rutas_archivos"
      ]
    },
    {
      "cell_type": "markdown",
      "metadata": {
        "id": "ePDdY2FuEWgV"
      },
      "source": [
        "Ahora vamos a unir estas dos listas del mismo tamaño en una lista de tuplas utilizando la función \"zip\" de Python nativo. Como el zip de Python devuelve un objeto iterable, vamos a convertirlo en lista para trabajar mejor"
      ]
    },
    {
      "cell_type": "code",
      "execution_count": 8,
      "metadata": {
        "id": "yqJ1eMeCEWgW"
      },
      "outputs": [],
      "source": [
        "tuplas_archivos = list(zip(rutas_archivos,archivos_directorio))"
      ]
    },
    {
      "cell_type": "code",
      "execution_count": 9,
      "metadata": {
        "id": "3jMgiXG9EWgX",
        "colab": {
          "base_uri": "https://localhost:8080/"
        },
        "outputId": "c9326ac3-199e-4623-dbaf-3517a0003004"
      },
      "outputs": [
        {
          "output_type": "stream",
          "name": "stdout",
          "text": [
            "('publicaciones/Using GIS Site Suitability Analysis to Study Adaptability.txt', 'Using GIS Site Suitability Analysis to Study Adaptability.txt')\n",
            "('publicaciones/The Citrus Solution Phase II.txt', 'The Citrus Solution Phase II.txt')\n",
            "('publicaciones/Yukon Delta Salmon Management.txt', 'Yukon Delta Salmon Management.txt')\n",
            "('publicaciones/Characterization of Iron Deposition in Recombinant Heteropolymer.txt', 'Characterization of Iron Deposition in Recombinant Heteropolymer.txt')\n"
          ]
        }
      ],
      "source": [
        "for tupla in tuplas_archivos:\n",
        "    print(tupla)"
      ]
    },
    {
      "cell_type": "markdown",
      "metadata": {
        "id": "Tgt2lCKGEWgX"
      },
      "source": [
        "Ahora sí, vamos a pedirles que creen una función que reciba una tupla con la ruta y el nombre del archivo. Necesitamos que esta función cuente las palabras que hay en el txt que se encuentra en esa ruta y luego imprima el nombre del archivo y la cantidad. \n",
        "Después vamos a escribir un for loop que recorra la lista tuplas_archivos y devuelve una tupla con el nombre del archivo y la cantidad de palabras. Desde el loop for vamos a imprimir esa tupla.\n"
      ]
    },
    {
      "cell_type": "code",
      "execution_count": 10,
      "metadata": {
        "id": "Pq1I5MBnEWgY"
      },
      "outputs": [],
      "source": [
        "# 1. Escribir la función \n",
        "def contar_palabras(tupla): #creamos la función\n",
        "  ruta = tupla[0] #recibe tupla con la ruta\n",
        "  nombre = tupla[1]#recibe tupla con nombre de archivo\n",
        "  with open(ruta, 'r') as inp: #abrimos ruta con with open\n",
        "    string_contenido = inp.read()\n",
        "  palabras = string_contenido.split(' ') #separamos con split el string en partes\n",
        "  cantidad_palabras = len(palabras) #medimos la longitud de los strings\n",
        "  return (nombre, cantidad_palabras)\n"
      ]
    },
    {
      "cell_type": "code",
      "execution_count": 11,
      "metadata": {
        "id": "2Yb4yBC6EWgY",
        "colab": {
          "base_uri": "https://localhost:8080/"
        },
        "outputId": "8c57015a-4b01-41a1-9176-e7b6d1263dfd"
      },
      "outputs": [
        {
          "output_type": "stream",
          "name": "stdout",
          "text": [
            "('Using GIS Site Suitability Analysis to Study Adaptability.txt', 134)\n",
            "('The Citrus Solution Phase II.txt', 519)\n",
            "('Yukon Delta Salmon Management.txt', 109)\n",
            "('Characterization of Iron Deposition in Recombinant Heteropolymer.txt', 217)\n"
          ]
        }
      ],
      "source": [
        "# 2. Recorrer en un loop tuplas_archivos invocando a la función\n",
        "for tupla in tuplas_archivos:\n",
        "  print(contar_palabras(tupla))"
      ]
    },
    {
      "cell_type": "markdown",
      "metadata": {
        "id": "ot1Krch8EWga"
      },
      "source": [
        "Entonces ¿Cuáles superan las 250 palabras? Si quieren ir una milla extra modifiquen la función para que devuelva True si supera y False si no supera en lugar de devolver la cantidad. "
      ]
    },
    {
      "cell_type": "code",
      "execution_count": 12,
      "metadata": {
        "id": "FfpPnmWKEWga"
      },
      "outputs": [],
      "source": [
        "# 3. Modifiquen la función\n",
        "def contar_palabras(tupla):\n",
        "  ruta = tupla[0]\n",
        "  nombre = tupla[1]\n",
        "  with open(ruta, 'r') as inp:\n",
        "    string_contenido = inp.read()\n",
        "  palabras = string_contenido.split(' ')\n",
        "  cantidad_palabras = len(palabras)\n",
        "  supera = False\n",
        "  if cantidad_palabras > 250:\n",
        "    supera = True\n",
        "    return(nombre, supera)"
      ]
    },
    {
      "cell_type": "code",
      "execution_count": 13,
      "metadata": {
        "id": "JE7udS1aEWga",
        "colab": {
          "base_uri": "https://localhost:8080/"
        },
        "outputId": "1b15fc62-c46e-4b08-a923-d95cbf19d304"
      },
      "outputs": [
        {
          "output_type": "stream",
          "name": "stdout",
          "text": [
            "None\n",
            "('The Citrus Solution Phase II.txt', True)\n",
            "None\n",
            "None\n"
          ]
        }
      ],
      "source": [
        "#4. Vuelvan a llamarla\n",
        "for tupla in tuplas_archivos:\n",
        "  print(contar_palabras(tupla))"
      ]
    },
    {
      "cell_type": "code",
      "execution_count": null,
      "metadata": {
        "id": "wsPKmDwfEWgb"
      },
      "outputs": [],
      "source": [
        ""
      ]
    }
  ],
  "metadata": {
    "kernelspec": {
      "display_name": "conda_python3",
      "language": "python",
      "name": "conda_python3"
    },
    "language_info": {
      "codemirror_mode": {
        "name": "ipython",
        "version": 3
      },
      "file_extension": ".py",
      "mimetype": "text/x-python",
      "name": "python",
      "nbconvert_exporter": "python",
      "pygments_lexer": "ipython3",
      "version": "3.6.10"
    },
    "colab": {
      "name": "Ejercicio2 Humai.ipynb",
      "provenance": [],
      "include_colab_link": true
    }
  },
  "nbformat": 4,
  "nbformat_minor": 0
}